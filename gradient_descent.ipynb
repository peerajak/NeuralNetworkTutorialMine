{
 "cells": [
  {
   "cell_type": "code",
   "execution_count": null,
   "metadata": {},
   "outputs": [],
   "source": [
    "import numpy as np\n",
    "import matplotlib.pyplot as plt\n",
    "from mpl_toolkits.mplot3d import Axes3D\n",
    "from matplotlib import cm"
   ]
  },
  {
   "cell_type": "code",
   "execution_count": null,
   "metadata": {},
   "outputs": [],
   "source": [
    "nx, ny = (20, 20)\n",
    "x = np.linspace(-100,100, nx)\n",
    "y = np.linspace(-100, 100, ny)\n",
    "X, Y = np.meshgrid(x, y)\n",
    "F = 2*X**2 + 2*X*Y + 3*Y**2\n",
    "print X\n",
    "print Y\n",
    "print F"
   ]
  },
  {
   "cell_type": "code",
   "execution_count": null,
   "metadata": {},
   "outputs": [],
   "source": [
    "fig = plt.figure()\n",
    "ax1 = fig.add_subplot(111, projection='3d')\n",
    "ax1.plot_surface(X, Y, F, alpha=0.05, color=\"w\")"
   ]
  },
  {
   "cell_type": "code",
   "execution_count": null,
   "metadata": {},
   "outputs": [],
   "source": [
    "grad_fX = 4*X + 2*Y\n",
    "grad_fY = 2*X + 6*Y"
   ]
  },
  {
   "cell_type": "code",
   "execution_count": null,
   "metadata": {},
   "outputs": [],
   "source": [
    "fig = plt.figure(12)\n",
    "ax = fig.gca()\n",
    "ax.quiver(X, Y, -grad_fX, -grad_fY, color='r',angles='xy', scale_units='xy')\n",
    "ax.contour(X, Y, F)\n",
    "plt.axis('equal')"
   ]
  },
  {
   "cell_type": "code",
   "execution_count": null,
   "metadata": {},
   "outputs": [],
   "source": [
    "plt.show()"
   ]
  },
  {
   "cell_type": "code",
   "execution_count": null,
   "metadata": {},
   "outputs": [],
   "source": [
    "fx = lambda x: 2*x[0]**2 + 2*x[0]*x[1] + 3*x[1]**2\n",
    "fz = lambda z: 2*z[0] + 2*z[1] + 3*z[2]"
   ]
  },
  {
   "cell_type": "code",
   "execution_count": null,
   "metadata": {},
   "outputs": [],
   "source": [
    "def fxz(x):\n",
    "    z = np.zeros(3)\n",
    "    z[0] = x[0]**2\n",
    "    z[1] = x[0]*x[1]\n",
    "    z[2] = x[1]**2\n",
    "    return z"
   ]
  },
  {
   "cell_type": "code",
   "execution_count": null,
   "metadata": {},
   "outputs": [],
   "source": [
    "A= np.array([fxz(np.array([1,1])),fxz(np.array([1,-1])),fxz(np.array([2,-1]))])\n",
    "print A"
   ]
  },
  {
   "cell_type": "code",
   "execution_count": null,
   "metadata": {},
   "outputs": [],
   "source": [
    "b = fz(A.T)#np.array([[7],[3],[7]])\n",
    "print b"
   ]
  },
  {
   "cell_type": "code",
   "execution_count": null,
   "metadata": {
    "scrolled": true
   },
   "outputs": [],
   "source": [
    "print np.matmul(np.linalg.inv(np.matmul(A.T,A)),np.matmul(A.T,b))"
   ]
  },
  {
   "cell_type": "code",
   "execution_count": null,
   "metadata": {},
   "outputs": [],
   "source": [
    "def dw(z,true_fz,current_w):\n",
    "    new_estimate_of_fz =  np.dot(current_w,z)\n",
    "    cost = 0.5* ((true_fz -new_estimate_of_fz )**2)\n",
    "    dW = -(true_fz -new_estimate_of_fz )*z\n",
    "    return cost,dW\n"
   ]
  },
  {
   "cell_type": "code",
   "execution_count": null,
   "metadata": {},
   "outputs": [],
   "source": [
    "def rel_error(x, y):\n",
    "  \"\"\" returns relative error \"\"\"\n",
    "  return np.max(np.abs(x - y) / (np.maximum(1e-8, np.abs(x) + np.abs(y))))"
   ]
  },
  {
   "cell_type": "code",
   "execution_count": null,
   "metadata": {},
   "outputs": [],
   "source": []
  },
  {
   "cell_type": "code",
   "execution_count": null,
   "metadata": {},
   "outputs": [],
   "source": [
    "z = np.random.rand(3)\n",
    "w = np.random.rand(3)\n",
    "dw_num = np.zeros(3)\n",
    "small_e = 0.001\n",
    "print z,w\n",
    "for w_ in range(3):\n",
    "    w_working = w.copy()\n",
    "    w_working[w_] += small_e\n",
    "    cost_num1= 0.5*(fz(z) - np.dot(w_working,z))**2\n",
    "    w_working[w_] -= 2*small_e\n",
    "    cost_num2 = 0.5*(fz(z)- np.dot(w_working,z))**2\n",
    "    dw_num[w_] = (cost_num1 - cost_num2)/(2*small_e)\n",
    "    \n",
    "print \"numerical solution:\",dw_num\n",
    "_, dw_cal = dw(z,fz(z),w)\n",
    "print \"cal solution:\",dw_cal\n",
    "print \"difference:\",rel_error(dw_cal , dw_num)"
   ]
  },
  {
   "cell_type": "code",
   "execution_count": null,
   "metadata": {},
   "outputs": [],
   "source": [
    "learnrate = 0.1\n",
    "w = np.random.rand(3)\n",
    "cost_rec = np.zeros(3000,dtype=np.float)\n",
    "for ii in range(3000):\n",
    "    z = np.random.rand(3)\n",
    "    f_z = fz(z)\n",
    "    cost,dW = dw(z,f_z,w)\n",
    "    cost_rec[ii] = cost\n",
    "    print ii,\":\",cost\n",
    "    w = w - learnrate * dW"
   ]
  },
  {
   "cell_type": "code",
   "execution_count": null,
   "metadata": {},
   "outputs": [],
   "source": [
    "print w"
   ]
  },
  {
   "cell_type": "code",
   "execution_count": null,
   "metadata": {},
   "outputs": [],
   "source": [
    "import matplotlib.pyplot as plt\n",
    "plt.plot(cost_rec[0:100])"
   ]
  },
  {
   "cell_type": "code",
   "execution_count": null,
   "metadata": {},
   "outputs": [],
   "source": [
    "plt.show()"
   ]
  },
  {
   "cell_type": "code",
   "execution_count": null,
   "metadata": {},
   "outputs": [],
   "source": []
  }
 ],
 "metadata": {
  "kernelspec": {
   "display_name": "Python 2",
   "language": "python",
   "name": "python2"
  },
  "language_info": {
   "codemirror_mode": {
    "name": "ipython",
    "version": 2
   },
   "file_extension": ".py",
   "mimetype": "text/x-python",
   "name": "python",
   "nbconvert_exporter": "python",
   "pygments_lexer": "ipython2",
   "version": "2.7.6"
  }
 },
 "nbformat": 4,
 "nbformat_minor": 1
}
